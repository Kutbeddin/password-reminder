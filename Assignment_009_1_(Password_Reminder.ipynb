{
  "nbformat": 4,
  "nbformat_minor": 0,
  "metadata": {
    "colab": {
      "name": "Assignment-009/1 (Password Reminder.ipynb",
      "provenance": []
    },
    "kernelspec": {
      "name": "python3",
      "display_name": "Python 3"
    },
    "language_info": {
      "name": "python"
    }
  },
  "cells": [
    {
      "cell_type": "code",
      "metadata": {
        "colab": {
          "base_uri": "https://localhost:8080/"
        },
        "id": "j8-OW9kZmEYc",
        "outputId": "acfdf3e5-628d-4d8c-c479-2bcc31292431"
      },
      "source": [
        "user_name = \"kutbeddin\"\n",
        "user_test = input(\"enter username:\")\n",
        "if user_name == user_test :\n",
        "   print(\"Hello, {}! The password is : W@12\".format(user_test))\n",
        "else:\n",
        "  print(\"Hello, {}! See you later.\".format(user_test)) \n",
        " "
      ],
      "execution_count": 4,
      "outputs": [
        {
          "output_type": "stream",
          "text": [
            "enter username:kutbeddin\n",
            "Hello, kutbeddin! The password is : W@12\n"
          ],
          "name": "stdout"
        }
      ]
    },
    {
      "cell_type": "code",
      "metadata": {
        "id": "M0JxjByNoBua"
      },
      "source": [
        ""
      ],
      "execution_count": null,
      "outputs": []
    }
  ]
}